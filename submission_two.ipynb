{
 "cells": [
  {
   "cell_type": "code",
   "execution_count": 1,
   "id": "cd1726c1",
   "metadata": {
    "_cell_guid": "b1076dfc-b9ad-4769-8c92-a6c4dae69d19",
    "_uuid": "8f2839f25d086af736a60e9eeb907d3b93b6e0e5",
    "execution": {
     "iopub.execute_input": "2025-02-14T20:35:37.802845Z",
     "iopub.status.busy": "2025-02-14T20:35:37.802453Z",
     "iopub.status.idle": "2025-02-14T20:35:38.857428Z",
     "shell.execute_reply": "2025-02-14T20:35:38.856287Z"
    },
    "papermill": {
     "duration": 1.063478,
     "end_time": "2025-02-14T20:35:38.859174",
     "exception": false,
     "start_time": "2025-02-14T20:35:37.795696",
     "status": "completed"
    },
    "tags": []
   },
   "outputs": [
    {
     "name": "stdout",
     "output_type": "stream",
     "text": [
      "/kaggle/input/playground-series-s5e2/sample_submission.csv\n",
      "/kaggle/input/playground-series-s5e2/train.csv\n",
      "/kaggle/input/playground-series-s5e2/test.csv\n",
      "/kaggle/input/playground-series-s5e2/training_extra.csv\n"
     ]
    }
   ],
   "source": [
    "# This Python 3 environment comes with many helpful analytics libraries installed\n",
    "# It is defined by the kaggle/python Docker image: https://github.com/kaggle/docker-python\n",
    "# For example, here's several helpful packages to load\n",
    "\n",
    "import numpy as np # linear algebra\n",
    "import pandas as pd # data processing, CSV file I/O (e.g. pd.read_csv)\n",
    "\n",
    "# Input data files are available in the read-only \"../input/\" directory\n",
    "# For example, running this (by clicking run or pressing Shift+Enter) will list all files under the input directory\n",
    "\n",
    "import os\n",
    "for dirname, _, filenames in os.walk('/kaggle/input'):\n",
    "    for filename in filenames:\n",
    "        print(os.path.join(dirname, filename))\n",
    "\n",
    "# You can write up to 20GB to the current directory (/kaggle/working/) that gets preserved as output when you create a version using \"Save & Run All\" \n",
    "# You can also write temporary files to /kaggle/temp/, but they won't be saved outside of the current session"
   ]
  },
  {
   "cell_type": "markdown",
   "id": "80ac9ae2",
   "metadata": {
    "papermill": {
     "duration": 0.004267,
     "end_time": "2025-02-14T20:35:38.868296",
     "exception": false,
     "start_time": "2025-02-14T20:35:38.864029",
     "status": "completed"
    },
    "tags": []
   },
   "source": [
    "# NOTE: Compared to version 1, This version uses LGBM instead of XGB"
   ]
  },
  {
   "cell_type": "code",
   "execution_count": 2,
   "id": "c763c828",
   "metadata": {
    "execution": {
     "iopub.execute_input": "2025-02-14T20:35:38.878745Z",
     "iopub.status.busy": "2025-02-14T20:35:38.878258Z",
     "iopub.status.idle": "2025-02-14T20:35:49.021697Z",
     "shell.execute_reply": "2025-02-14T20:35:49.020635Z"
    },
    "papermill": {
     "duration": 10.150678,
     "end_time": "2025-02-14T20:35:49.023498",
     "exception": false,
     "start_time": "2025-02-14T20:35:38.872820",
     "status": "completed"
    },
    "tags": []
   },
   "outputs": [
    {
     "data": {
      "text/html": [
       "<div>\n",
       "<style scoped>\n",
       "    .dataframe tbody tr th:only-of-type {\n",
       "        vertical-align: middle;\n",
       "    }\n",
       "\n",
       "    .dataframe tbody tr th {\n",
       "        vertical-align: top;\n",
       "    }\n",
       "\n",
       "    .dataframe thead th {\n",
       "        text-align: right;\n",
       "    }\n",
       "</style>\n",
       "<table border=\"1\" class=\"dataframe\">\n",
       "  <thead>\n",
       "    <tr style=\"text-align: right;\">\n",
       "      <th></th>\n",
       "      <th>Brand</th>\n",
       "      <th>Material</th>\n",
       "      <th>Size</th>\n",
       "      <th>Compartments</th>\n",
       "      <th>Laptop Compartment</th>\n",
       "      <th>Waterproof</th>\n",
       "      <th>Style</th>\n",
       "      <th>Color</th>\n",
       "      <th>Weight Capacity (kg)</th>\n",
       "      <th>Price</th>\n",
       "    </tr>\n",
       "    <tr>\n",
       "      <th>id</th>\n",
       "      <th></th>\n",
       "      <th></th>\n",
       "      <th></th>\n",
       "      <th></th>\n",
       "      <th></th>\n",
       "      <th></th>\n",
       "      <th></th>\n",
       "      <th></th>\n",
       "      <th></th>\n",
       "      <th></th>\n",
       "    </tr>\n",
       "  </thead>\n",
       "  <tbody>\n",
       "    <tr>\n",
       "      <th>500000</th>\n",
       "      <td>Under Armour</td>\n",
       "      <td>Canvas</td>\n",
       "      <td>Small</td>\n",
       "      <td>10.0</td>\n",
       "      <td>Yes</td>\n",
       "      <td>Yes</td>\n",
       "      <td>Tote</td>\n",
       "      <td>Blue</td>\n",
       "      <td>23.882052</td>\n",
       "      <td>114.11068</td>\n",
       "    </tr>\n",
       "    <tr>\n",
       "      <th>500001</th>\n",
       "      <td>Puma</td>\n",
       "      <td>Polyester</td>\n",
       "      <td>Small</td>\n",
       "      <td>4.0</td>\n",
       "      <td>No</td>\n",
       "      <td>Yes</td>\n",
       "      <td>Backpack</td>\n",
       "      <td>Green</td>\n",
       "      <td>11.869095</td>\n",
       "      <td>129.74972</td>\n",
       "    </tr>\n",
       "    <tr>\n",
       "      <th>500002</th>\n",
       "      <td>Jansport</td>\n",
       "      <td>Polyester</td>\n",
       "      <td>Small</td>\n",
       "      <td>8.0</td>\n",
       "      <td>Yes</td>\n",
       "      <td>Yes</td>\n",
       "      <td>Tote</td>\n",
       "      <td>Red</td>\n",
       "      <td>8.092302</td>\n",
       "      <td>21.37370</td>\n",
       "    </tr>\n",
       "    <tr>\n",
       "      <th>500003</th>\n",
       "      <td>Nike</td>\n",
       "      <td>Nylon</td>\n",
       "      <td>Large</td>\n",
       "      <td>7.0</td>\n",
       "      <td>No</td>\n",
       "      <td>No</td>\n",
       "      <td>Messenger</td>\n",
       "      <td>Pink</td>\n",
       "      <td>7.719581</td>\n",
       "      <td>48.09209</td>\n",
       "    </tr>\n",
       "    <tr>\n",
       "      <th>500004</th>\n",
       "      <td>Nike</td>\n",
       "      <td>Leather</td>\n",
       "      <td>Large</td>\n",
       "      <td>9.0</td>\n",
       "      <td>No</td>\n",
       "      <td>Yes</td>\n",
       "      <td>Tote</td>\n",
       "      <td>Green</td>\n",
       "      <td>22.741826</td>\n",
       "      <td>77.32461</td>\n",
       "    </tr>\n",
       "    <tr>\n",
       "      <th>...</th>\n",
       "      <td>...</td>\n",
       "      <td>...</td>\n",
       "      <td>...</td>\n",
       "      <td>...</td>\n",
       "      <td>...</td>\n",
       "      <td>...</td>\n",
       "      <td>...</td>\n",
       "      <td>...</td>\n",
       "      <td>...</td>\n",
       "      <td>...</td>\n",
       "    </tr>\n",
       "    <tr>\n",
       "      <th>4194313</th>\n",
       "      <td>Nike</td>\n",
       "      <td>Canvas</td>\n",
       "      <td>NaN</td>\n",
       "      <td>3.0</td>\n",
       "      <td>Yes</td>\n",
       "      <td>Yes</td>\n",
       "      <td>Messenger</td>\n",
       "      <td>Blue</td>\n",
       "      <td>28.098120</td>\n",
       "      <td>104.74460</td>\n",
       "    </tr>\n",
       "    <tr>\n",
       "      <th>4194314</th>\n",
       "      <td>Puma</td>\n",
       "      <td>Leather</td>\n",
       "      <td>Small</td>\n",
       "      <td>10.0</td>\n",
       "      <td>Yes</td>\n",
       "      <td>Yes</td>\n",
       "      <td>Tote</td>\n",
       "      <td>Blue</td>\n",
       "      <td>17.379531</td>\n",
       "      <td>122.39043</td>\n",
       "    </tr>\n",
       "    <tr>\n",
       "      <th>4194315</th>\n",
       "      <td>Jansport</td>\n",
       "      <td>Canvas</td>\n",
       "      <td>Large</td>\n",
       "      <td>10.0</td>\n",
       "      <td>No</td>\n",
       "      <td>No</td>\n",
       "      <td>Backpack</td>\n",
       "      <td>Red</td>\n",
       "      <td>17.037708</td>\n",
       "      <td>148.18470</td>\n",
       "    </tr>\n",
       "    <tr>\n",
       "      <th>4194316</th>\n",
       "      <td>Puma</td>\n",
       "      <td>Canvas</td>\n",
       "      <td>NaN</td>\n",
       "      <td>2.0</td>\n",
       "      <td>No</td>\n",
       "      <td>No</td>\n",
       "      <td>Backpack</td>\n",
       "      <td>Gray</td>\n",
       "      <td>28.783339</td>\n",
       "      <td>22.32269</td>\n",
       "    </tr>\n",
       "    <tr>\n",
       "      <th>4194317</th>\n",
       "      <td>Under Armour</td>\n",
       "      <td>Polyester</td>\n",
       "      <td>Medium</td>\n",
       "      <td>2.0</td>\n",
       "      <td>Yes</td>\n",
       "      <td>No</td>\n",
       "      <td>Backpack</td>\n",
       "      <td>Blue</td>\n",
       "      <td>23.076169</td>\n",
       "      <td>107.61199</td>\n",
       "    </tr>\n",
       "  </tbody>\n",
       "</table>\n",
       "<p>3694318 rows × 10 columns</p>\n",
       "</div>"
      ],
      "text/plain": [
       "                Brand   Material    Size  Compartments Laptop Compartment  \\\n",
       "id                                                                          \n",
       "500000   Under Armour     Canvas   Small          10.0                Yes   \n",
       "500001           Puma  Polyester   Small           4.0                 No   \n",
       "500002       Jansport  Polyester   Small           8.0                Yes   \n",
       "500003           Nike      Nylon   Large           7.0                 No   \n",
       "500004           Nike    Leather   Large           9.0                 No   \n",
       "...               ...        ...     ...           ...                ...   \n",
       "4194313          Nike     Canvas     NaN           3.0                Yes   \n",
       "4194314          Puma    Leather   Small          10.0                Yes   \n",
       "4194315      Jansport     Canvas   Large          10.0                 No   \n",
       "4194316          Puma     Canvas     NaN           2.0                 No   \n",
       "4194317  Under Armour  Polyester  Medium           2.0                Yes   \n",
       "\n",
       "        Waterproof      Style  Color  Weight Capacity (kg)      Price  \n",
       "id                                                                     \n",
       "500000         Yes       Tote   Blue             23.882052  114.11068  \n",
       "500001         Yes   Backpack  Green             11.869095  129.74972  \n",
       "500002         Yes       Tote    Red              8.092302   21.37370  \n",
       "500003          No  Messenger   Pink              7.719581   48.09209  \n",
       "500004         Yes       Tote  Green             22.741826   77.32461  \n",
       "...            ...        ...    ...                   ...        ...  \n",
       "4194313        Yes  Messenger   Blue             28.098120  104.74460  \n",
       "4194314        Yes       Tote   Blue             17.379531  122.39043  \n",
       "4194315         No   Backpack    Red             17.037708  148.18470  \n",
       "4194316         No   Backpack   Gray             28.783339   22.32269  \n",
       "4194317         No   Backpack   Blue             23.076169  107.61199  \n",
       "\n",
       "[3694318 rows x 10 columns]"
      ]
     },
     "execution_count": 2,
     "metadata": {},
     "output_type": "execute_result"
    }
   ],
   "source": [
    "train = pd.read_csv('/kaggle/input/playground-series-s5e2/train.csv', index_col=['id'])\n",
    "test = pd.read_csv('/kaggle/input/playground-series-s5e2/test.csv', index_col=['id'])\n",
    "train_xtra = pd.read_csv('/kaggle/input/playground-series-s5e2/training_extra.csv', index_col=['id'])\n",
    "\n",
    "train_xtra"
   ]
  },
  {
   "cell_type": "code",
   "execution_count": 3,
   "id": "61665089",
   "metadata": {
    "execution": {
     "iopub.execute_input": "2025-02-14T20:35:49.034511Z",
     "iopub.status.busy": "2025-02-14T20:35:49.034155Z",
     "iopub.status.idle": "2025-02-14T20:35:49.155922Z",
     "shell.execute_reply": "2025-02-14T20:35:49.154602Z"
    },
    "papermill": {
     "duration": 0.1292,
     "end_time": "2025-02-14T20:35:49.157733",
     "exception": false,
     "start_time": "2025-02-14T20:35:49.028533",
     "status": "completed"
    },
    "tags": []
   },
   "outputs": [
    {
     "name": "stdout",
     "output_type": "stream",
     "text": [
      "<class 'pandas.core.frame.DataFrame'>\n",
      "Index: 300000 entries, 0 to 299999\n",
      "Data columns (total 10 columns):\n",
      " #   Column                Non-Null Count   Dtype  \n",
      "---  ------                --------------   -----  \n",
      " 0   Brand                 290295 non-null  object \n",
      " 1   Material              291653 non-null  object \n",
      " 2   Size                  293405 non-null  object \n",
      " 3   Compartments          300000 non-null  float64\n",
      " 4   Laptop Compartment    292556 non-null  object \n",
      " 5   Waterproof            292950 non-null  object \n",
      " 6   Style                 292030 non-null  object \n",
      " 7   Color                 290050 non-null  object \n",
      " 8   Weight Capacity (kg)  299862 non-null  float64\n",
      " 9   Price                 300000 non-null  float64\n",
      "dtypes: float64(3), object(7)\n",
      "memory usage: 25.2+ MB\n"
     ]
    }
   ],
   "source": [
    "train.info()"
   ]
  },
  {
   "cell_type": "markdown",
   "id": "77132952",
   "metadata": {
    "papermill": {
     "duration": 0.004861,
     "end_time": "2025-02-14T20:35:49.167734",
     "exception": false,
     "start_time": "2025-02-14T20:35:49.162873",
     "status": "completed"
    },
    "tags": []
   },
   "source": [
    "*Create a pairplot*"
   ]
  },
  {
   "cell_type": "markdown",
   "id": "ce0f5491",
   "metadata": {
    "papermill": {
     "duration": 0.004712,
     "end_time": "2025-02-14T20:35:49.177384",
     "exception": false,
     "start_time": "2025-02-14T20:35:49.172672",
     "status": "completed"
    },
    "tags": []
   },
   "source": [
    "*Get numeric columns and categorical columns*"
   ]
  },
  {
   "cell_type": "code",
   "execution_count": 4,
   "id": "fd6a9ef6",
   "metadata": {
    "execution": {
     "iopub.execute_input": "2025-02-14T20:35:49.188773Z",
     "iopub.status.busy": "2025-02-14T20:35:49.188410Z",
     "iopub.status.idle": "2025-02-14T20:35:49.215733Z",
     "shell.execute_reply": "2025-02-14T20:35:49.214315Z"
    },
    "papermill": {
     "duration": 0.035257,
     "end_time": "2025-02-14T20:35:49.217695",
     "exception": false,
     "start_time": "2025-02-14T20:35:49.182438",
     "status": "completed"
    },
    "tags": []
   },
   "outputs": [
    {
     "data": {
      "text/html": [
       "<div>\n",
       "<style scoped>\n",
       "    .dataframe tbody tr th:only-of-type {\n",
       "        vertical-align: middle;\n",
       "    }\n",
       "\n",
       "    .dataframe tbody tr th {\n",
       "        vertical-align: top;\n",
       "    }\n",
       "\n",
       "    .dataframe thead th {\n",
       "        text-align: right;\n",
       "    }\n",
       "</style>\n",
       "<table border=\"1\" class=\"dataframe\">\n",
       "  <thead>\n",
       "    <tr style=\"text-align: right;\">\n",
       "      <th></th>\n",
       "      <th>Compartments</th>\n",
       "      <th>Weight Capacity (kg)</th>\n",
       "    </tr>\n",
       "    <tr>\n",
       "      <th>id</th>\n",
       "      <th></th>\n",
       "      <th></th>\n",
       "    </tr>\n",
       "  </thead>\n",
       "  <tbody>\n",
       "    <tr>\n",
       "      <th>0</th>\n",
       "      <td>7.0</td>\n",
       "      <td>11.611723</td>\n",
       "    </tr>\n",
       "    <tr>\n",
       "      <th>1</th>\n",
       "      <td>10.0</td>\n",
       "      <td>27.078537</td>\n",
       "    </tr>\n",
       "    <tr>\n",
       "      <th>2</th>\n",
       "      <td>2.0</td>\n",
       "      <td>16.643760</td>\n",
       "    </tr>\n",
       "    <tr>\n",
       "      <th>3</th>\n",
       "      <td>8.0</td>\n",
       "      <td>12.937220</td>\n",
       "    </tr>\n",
       "    <tr>\n",
       "      <th>4</th>\n",
       "      <td>1.0</td>\n",
       "      <td>17.749338</td>\n",
       "    </tr>\n",
       "    <tr>\n",
       "      <th>...</th>\n",
       "      <td>...</td>\n",
       "      <td>...</td>\n",
       "    </tr>\n",
       "    <tr>\n",
       "      <th>299995</th>\n",
       "      <td>9.0</td>\n",
       "      <td>12.730812</td>\n",
       "    </tr>\n",
       "    <tr>\n",
       "      <th>299996</th>\n",
       "      <td>6.0</td>\n",
       "      <td>26.633182</td>\n",
       "    </tr>\n",
       "    <tr>\n",
       "      <th>299997</th>\n",
       "      <td>9.0</td>\n",
       "      <td>11.898250</td>\n",
       "    </tr>\n",
       "    <tr>\n",
       "      <th>299998</th>\n",
       "      <td>1.0</td>\n",
       "      <td>6.175738</td>\n",
       "    </tr>\n",
       "    <tr>\n",
       "      <th>299999</th>\n",
       "      <td>2.0</td>\n",
       "      <td>18.568865</td>\n",
       "    </tr>\n",
       "  </tbody>\n",
       "</table>\n",
       "<p>300000 rows × 2 columns</p>\n",
       "</div>"
      ],
      "text/plain": [
       "        Compartments  Weight Capacity (kg)\n",
       "id                                        \n",
       "0                7.0             11.611723\n",
       "1               10.0             27.078537\n",
       "2                2.0             16.643760\n",
       "3                8.0             12.937220\n",
       "4                1.0             17.749338\n",
       "...              ...                   ...\n",
       "299995           9.0             12.730812\n",
       "299996           6.0             26.633182\n",
       "299997           9.0             11.898250\n",
       "299998           1.0              6.175738\n",
       "299999           2.0             18.568865\n",
       "\n",
       "[300000 rows x 2 columns]"
      ]
     },
     "execution_count": 4,
     "metadata": {},
     "output_type": "execute_result"
    }
   ],
   "source": [
    "num_df = train.select_dtypes(include=['number']).drop('Price', axis=1)\n",
    "cat_df = train.select_dtypes(include=['object'])\n",
    "\n",
    "num_cols = num_df.columns\n",
    "cat_cols = cat_df.columns\n",
    "\n",
    "num_df"
   ]
  },
  {
   "cell_type": "markdown",
   "id": "165dee9d",
   "metadata": {
    "papermill": {
     "duration": 0.007529,
     "end_time": "2025-02-14T20:35:49.232477",
     "exception": false,
     "start_time": "2025-02-14T20:35:49.224948",
     "status": "completed"
    },
    "tags": []
   },
   "source": [
    "*Seperate categorical columns into ordinal (to be ordinal encoded) and non-ordinal (to be one-hot encoded)*"
   ]
  },
  {
   "cell_type": "markdown",
   "id": "b8631836",
   "metadata": {
    "papermill": {
     "duration": 0.005014,
     "end_time": "2025-02-14T20:35:49.247230",
     "exception": false,
     "start_time": "2025-02-14T20:35:49.242216",
     "status": "completed"
    },
    "tags": []
   },
   "source": [
    "# TODO: Try changing the ordinal and non-ordinal columns around"
   ]
  },
  {
   "cell_type": "code",
   "execution_count": 5,
   "id": "4cb68103",
   "metadata": {
    "execution": {
     "iopub.execute_input": "2025-02-14T20:35:49.259463Z",
     "iopub.status.busy": "2025-02-14T20:35:49.259045Z",
     "iopub.status.idle": "2025-02-14T20:35:49.282355Z",
     "shell.execute_reply": "2025-02-14T20:35:49.281216Z"
    },
    "papermill": {
     "duration": 0.032071,
     "end_time": "2025-02-14T20:35:49.284726",
     "exception": false,
     "start_time": "2025-02-14T20:35:49.252655",
     "status": "completed"
    },
    "tags": []
   },
   "outputs": [],
   "source": [
    "ord_cols = ['Size', 'Laptop Compartment', 'Waterproof']\n",
    "oh_cols = ['Brand', 'Material', 'Style', 'Color']\n",
    "\n",
    "ord_df = train[ord_cols]\n",
    "oh_df = train[oh_cols]"
   ]
  },
  {
   "cell_type": "markdown",
   "id": "e38a2101",
   "metadata": {
    "papermill": {
     "duration": 0.008775,
     "end_time": "2025-02-14T20:35:49.302810",
     "exception": false,
     "start_time": "2025-02-14T20:35:49.294035",
     "status": "completed"
    },
    "tags": []
   },
   "source": [
    "*Get unique values*"
   ]
  },
  {
   "cell_type": "code",
   "execution_count": 6,
   "id": "82f32e65",
   "metadata": {
    "execution": {
     "iopub.execute_input": "2025-02-14T20:35:49.315559Z",
     "iopub.status.busy": "2025-02-14T20:35:49.315045Z",
     "iopub.status.idle": "2025-02-14T20:35:49.363828Z",
     "shell.execute_reply": "2025-02-14T20:35:49.362547Z"
    },
    "papermill": {
     "duration": 0.057044,
     "end_time": "2025-02-14T20:35:49.365736",
     "exception": false,
     "start_time": "2025-02-14T20:35:49.308692",
     "status": "completed"
    },
    "tags": []
   },
   "outputs": [
    {
     "name": "stdout",
     "output_type": "stream",
     "text": [
      "col: Size\n",
      "values: ['Medium' 'Small' 'Large' nan]\n",
      "col: Laptop Compartment\n",
      "values: ['Yes' 'No' nan]\n",
      "col: Waterproof\n",
      "values: ['No' 'Yes' nan]\n"
     ]
    }
   ],
   "source": [
    "for col in ord_df.columns:\n",
    "    print(f'col: {col}\\n\\\n",
    "values: {ord_df[col].unique()}')"
   ]
  },
  {
   "cell_type": "markdown",
   "id": "f33b1878",
   "metadata": {
    "papermill": {
     "duration": 0.006133,
     "end_time": "2025-02-14T20:35:49.377856",
     "exception": false,
     "start_time": "2025-02-14T20:35:49.371723",
     "status": "completed"
    },
    "tags": []
   },
   "source": [
    "*Get the ordering of columns in the `train` DataFrame*"
   ]
  },
  {
   "cell_type": "code",
   "execution_count": 7,
   "id": "9ac7744f",
   "metadata": {
    "execution": {
     "iopub.execute_input": "2025-02-14T20:35:49.391024Z",
     "iopub.status.busy": "2025-02-14T20:35:49.390689Z",
     "iopub.status.idle": "2025-02-14T20:35:49.399010Z",
     "shell.execute_reply": "2025-02-14T20:35:49.397591Z"
    },
    "papermill": {
     "duration": 0.017144,
     "end_time": "2025-02-14T20:35:49.401371",
     "exception": false,
     "start_time": "2025-02-14T20:35:49.384227",
     "status": "completed"
    },
    "tags": []
   },
   "outputs": [
    {
     "name": "stdout",
     "output_type": "stream",
     "text": [
      "0, Brand\n",
      "1, Material\n",
      "2, Size\n",
      "3, Compartments\n",
      "4, Laptop Compartment\n",
      "5, Waterproof\n",
      "6, Style\n",
      "7, Color\n",
      "8, Weight Capacity (kg)\n",
      "9, Price\n"
     ]
    }
   ],
   "source": [
    "for i, col in enumerate(train.columns):\n",
    "    print(f'{i}, {col}')"
   ]
  },
  {
   "cell_type": "markdown",
   "id": "c980163f",
   "metadata": {
    "papermill": {
     "duration": 0.008442,
     "end_time": "2025-02-14T20:35:49.419281",
     "exception": false,
     "start_time": "2025-02-14T20:35:49.410839",
     "status": "completed"
    },
    "tags": []
   },
   "source": [
    " *Define ordering for each value*"
   ]
  },
  {
   "cell_type": "code",
   "execution_count": 8,
   "id": "78e4ce38",
   "metadata": {
    "execution": {
     "iopub.execute_input": "2025-02-14T20:35:49.439532Z",
     "iopub.status.busy": "2025-02-14T20:35:49.439049Z",
     "iopub.status.idle": "2025-02-14T20:35:49.444159Z",
     "shell.execute_reply": "2025-02-14T20:35:49.443089Z"
    },
    "papermill": {
     "duration": 0.017691,
     "end_time": "2025-02-14T20:35:49.446006",
     "exception": false,
     "start_time": "2025-02-14T20:35:49.428315",
     "status": "completed"
    },
    "tags": []
   },
   "outputs": [],
   "source": [
    "size_categories = ['Small', 'Medium', 'Large']\n",
    "yesno_categories = ['No', 'Yes']"
   ]
  },
  {
   "cell_type": "markdown",
   "id": "b48e7ae8",
   "metadata": {
    "papermill": {
     "duration": 0.005142,
     "end_time": "2025-02-14T20:35:49.456928",
     "exception": false,
     "start_time": "2025-02-14T20:35:49.451786",
     "status": "completed"
    },
    "tags": []
   },
   "source": [
    "*Create transformers for each type of column*"
   ]
  },
  {
   "cell_type": "code",
   "execution_count": 9,
   "id": "23b53ada",
   "metadata": {
    "execution": {
     "iopub.execute_input": "2025-02-14T20:35:49.469428Z",
     "iopub.status.busy": "2025-02-14T20:35:49.468910Z",
     "iopub.status.idle": "2025-02-14T20:35:52.426015Z",
     "shell.execute_reply": "2025-02-14T20:35:52.424907Z"
    },
    "papermill": {
     "duration": 2.965715,
     "end_time": "2025-02-14T20:35:52.428099",
     "exception": false,
     "start_time": "2025-02-14T20:35:49.462384",
     "status": "completed"
    },
    "tags": []
   },
   "outputs": [],
   "source": [
    "from sklearn.compose import ColumnTransformer\n",
    "from sklearn.pipeline import Pipeline\n",
    "from sklearn.impute import SimpleImputer\n",
    "from sklearn.preprocessing import OrdinalEncoder, OneHotEncoder, StandardScaler, FunctionTransformer\n",
    "\n",
    "# Using KNNImputer, n_neighbors is set arbitrarily, we'll go back later and figure out the best setting\n",
    "\n",
    "# Numerical columns\n",
    "\n",
    "num_transformer = Pipeline(\n",
    "    steps=[\n",
    "        ('num_impute', SimpleImputer(strategy = 'median')),\n",
    "        ('scale', StandardScaler()),\n",
    "    ]\n",
    ")\n",
    "\n",
    "num_df = pd.DataFrame(num_transformer.fit_transform(num_df))\n",
    "num_df.columns = num_cols\n",
    "\n",
    "# For ordinal columns\n",
    "\n",
    "ord_preprocessor = ColumnTransformer(\n",
    "    transformers=[\n",
    "        ('size_encoder', OrdinalEncoder(categories = [size_categories], handle_unknown = 'use_encoded_value', unknown_value = np.nan), ['Size']),\n",
    "        ('laptop_encoder', OrdinalEncoder(categories = [yesno_categories], handle_unknown = 'use_encoded_value', unknown_value = np.nan), ['Laptop Compartment']),\n",
    "        ('wp_encoder', OrdinalEncoder(categories = [yesno_categories], handle_unknown = 'use_encoded_value', unknown_value = np.nan), ['Waterproof'])\n",
    "    ],\n",
    "    remainder='passthrough'\n",
    ")\n",
    "\n",
    "# We have to use function transformer because `ord_impute` converts the DataFrame to a ndarray\n",
    "# In line with best practices using `ord_preprocessor`, we call columns by name, so we use\n",
    "# function transformer to convert our ndarray back to a DataFrame\n",
    "\n",
    "ord_transformer = Pipeline(\n",
    "    steps=[\n",
    "        ('preprocess', ord_preprocessor),\n",
    "        ('ord_impute', SimpleImputer(strategy = 'median')),\n",
    "        ('df_conversion', FunctionTransformer(lambda x: pd.DataFrame(x, columns=ord_cols))),\n",
    "    ]\n",
    ")\n",
    "\n",
    "# ord_df = pd.DataFrame(ord_transformer.fit_transform(ord_df), columns = ord_cols)\n",
    "ord_preprocessor.fit_transform(ord_df)\n",
    "\n",
    "# One hot columns\n",
    "\n",
    "oh_transformer = Pipeline(\n",
    "    steps=[\n",
    "        ('oh_impute', SimpleImputer(strategy = 'most_frequent')),\n",
    "        ('oh_encode', OneHotEncoder(handle_unknown='ignore', sparse_output=False))\n",
    "    ]\n",
    ")\n",
    "\n",
    "oh_df = pd.DataFrame(oh_transformer.fit_transform(oh_df))\n",
    "\n"
   ]
  },
  {
   "cell_type": "code",
   "execution_count": 10,
   "id": "e4a18463",
   "metadata": {
    "execution": {
     "iopub.execute_input": "2025-02-14T20:35:52.441220Z",
     "iopub.status.busy": "2025-02-14T20:35:52.440634Z",
     "iopub.status.idle": "2025-02-14T20:36:33.069428Z",
     "shell.execute_reply": "2025-02-14T20:36:33.068214Z"
    },
    "papermill": {
     "duration": 40.642927,
     "end_time": "2025-02-14T20:36:33.076932",
     "exception": false,
     "start_time": "2025-02-14T20:35:52.434005",
     "status": "completed"
    },
    "tags": []
   },
   "outputs": [
    {
     "name": "stdout",
     "output_type": "stream",
     "text": [
      "done\n"
     ]
    }
   ],
   "source": [
    "from sklearn.model_selection import train_test_split\n",
    "\n",
    "my_model = None\n",
    "\n",
    "preprocessor = ColumnTransformer(\n",
    "    transformers = [\n",
    "        ('num', num_transformer, num_cols),\n",
    "        ('ord', ord_transformer, ord_cols),\n",
    "        ('oh', oh_transformer, oh_cols)\n",
    "    ],\n",
    "    remainder = 'passthrough'\n",
    ")\n",
    "\n",
    "pipeline = Pipeline(\n",
    "    steps = [\n",
    "        ('preprocessor', preprocessor),\n",
    "        ('predict', my_model)\n",
    "    ]\n",
    ")\n",
    "\n",
    "train_total = pd.concat([train, train_xtra], axis = 0)\n",
    "train_total\n",
    "\n",
    "X = train_total.drop(columns = ['Price'])\n",
    "y = train_total['Price']\n",
    "\n",
    "X_train, X_test, y_train, y_test = train_test_split(X, y, test_size=0.2, random_state=42)\n",
    "\n",
    "X_train = preprocessor.fit_transform(X_train)\n",
    "X_test = preprocessor.fit_transform(X_test)\n",
    "\n",
    "X = preprocessor.fit_transform(X)\n",
    "\n",
    "print('done')"
   ]
  },
  {
   "cell_type": "code",
   "execution_count": 11,
   "id": "bc5f9cbe",
   "metadata": {
    "execution": {
     "iopub.execute_input": "2025-02-14T20:36:33.089609Z",
     "iopub.status.busy": "2025-02-14T20:36:33.089183Z",
     "iopub.status.idle": "2025-02-14T20:40:00.541568Z",
     "shell.execute_reply": "2025-02-14T20:40:00.540276Z"
    },
    "papermill": {
     "duration": 207.460909,
     "end_time": "2025-02-14T20:40:00.543552",
     "exception": false,
     "start_time": "2025-02-14T20:36:33.082643",
     "status": "completed"
    },
    "tags": []
   },
   "outputs": [
    {
     "name": "stdout",
     "output_type": "stream",
     "text": [
      "Training until validation scores don't improve for 5 rounds\n",
      "Did not meet early stopping. Best iteration is:\n",
      "[200]\tcv_agg's valid rmse: 38.8983 + 0.0280736\n"
     ]
    }
   ],
   "source": [
    "import lightgbm as lgb\n",
    "\n",
    "lgb_data = lgb.Dataset(X, label=y)\n",
    "\n",
    "params = {\n",
    "    'objective': 'regression',  # Regression task\n",
    "    'metric': 'rmse',          # Root Mean Squared Error\n",
    "    'boosting_type': 'gbdt',   # Gradient Boosting Decision Tree\n",
    "    'num_leaves': 31,          # Number of leaves in a tree\n",
    "    'learning_rate': 0.05,     # Learning rate\n",
    "    'feature_fraction': 0.9,   # Fraction of features used for training\n",
    "    'bagging_fraction': 0.8,   # Fraction of data used for training\n",
    "    'bagging_freq': 5,         # Frequency for bagging\n",
    "    'verbose': -1              # Suppress output\n",
    "}\n",
    "\n",
    "# Computationally time consuming to run\n",
    "\n",
    "cv_results = lgb.cv(\n",
    "    params,                    # Hyperparameters\n",
    "    lgb_data,                  # Dataset\n",
    "    num_boost_round=200,       # Number of boosting rounds\n",
    "    nfold=5,                   # Number of folds for cross-validation\n",
    "    stratified=False,          # Stratified sampling (not needed for regression)\n",
    "    shuffle=True,              # Shuffle data before splitting\n",
    "    metrics='rmse',            # Evaluation metric\n",
    "    seed=42,                    # Random seed for reproducibility\n",
    "    callbacks=[\n",
    "        lgb.early_stopping(stopping_rounds=5), # callbacks introduced in lgbm version 4\n",
    "    ]\n",
    ")"
   ]
  },
  {
   "cell_type": "code",
   "execution_count": 12,
   "id": "b4eeee4c",
   "metadata": {
    "execution": {
     "iopub.execute_input": "2025-02-14T20:40:00.557943Z",
     "iopub.status.busy": "2025-02-14T20:40:00.557091Z",
     "iopub.status.idle": "2025-02-14T20:40:00.563238Z",
     "shell.execute_reply": "2025-02-14T20:40:00.561981Z"
    },
    "papermill": {
     "duration": 0.01506,
     "end_time": "2025-02-14T20:40:00.564972",
     "exception": false,
     "start_time": "2025-02-14T20:40:00.549912",
     "status": "completed"
    },
    "tags": []
   },
   "outputs": [
    {
     "name": "stdout",
     "output_type": "stream",
     "text": [
      "Best number of boosting rounds: 200\n",
      "Best RMSE: 38.89825077082075\n"
     ]
    }
   ],
   "source": [
    "best_num_boost_rounds = len(cv_results['valid rmse-mean'])\n",
    "best_rmse = min(cv_results['valid rmse-mean'])\n",
    "print(f\"Best number of boosting rounds: {best_num_boost_rounds}\")\n",
    "print(f\"Best RMSE: {best_rmse}\")"
   ]
  },
  {
   "cell_type": "code",
   "execution_count": 13,
   "id": "25c92064",
   "metadata": {
    "execution": {
     "iopub.execute_input": "2025-02-14T20:40:00.578436Z",
     "iopub.status.busy": "2025-02-14T20:40:00.578029Z",
     "iopub.status.idle": "2025-02-14T20:40:40.598294Z",
     "shell.execute_reply": "2025-02-14T20:40:40.597213Z"
    },
    "papermill": {
     "duration": 40.036684,
     "end_time": "2025-02-14T20:40:40.607803",
     "exception": false,
     "start_time": "2025-02-14T20:40:00.571119",
     "status": "completed"
    },
    "tags": []
   },
   "outputs": [
    {
     "data": {
      "text/plain": [
       "<lightgbm.basic.Booster at 0x7bf0c1c91bd0>"
      ]
     },
     "execution_count": 13,
     "metadata": {},
     "output_type": "execute_result"
    }
   ],
   "source": [
    "final_model = lgb.train(\n",
    "    params,\n",
    "    lgb_data,\n",
    "    num_boost_round=best_num_boost_rounds\n",
    ")\n",
    "\n",
    "# Save the model\n",
    "final_model.save_model('lightgbm_final_model.txt')"
   ]
  },
  {
   "cell_type": "code",
   "execution_count": 14,
   "id": "54196bc7",
   "metadata": {
    "execution": {
     "iopub.execute_input": "2025-02-14T20:40:40.621645Z",
     "iopub.status.busy": "2025-02-14T20:40:40.620977Z",
     "iopub.status.idle": "2025-02-14T20:40:40.631945Z",
     "shell.execute_reply": "2025-02-14T20:40:40.631105Z"
    },
    "papermill": {
     "duration": 0.020134,
     "end_time": "2025-02-14T20:40:40.634136",
     "exception": false,
     "start_time": "2025-02-14T20:40:40.614002",
     "status": "completed"
    },
    "tags": []
   },
   "outputs": [],
   "source": [
    "loaded_model = lgb.Booster(model_file='lightgbm_final_model.txt')"
   ]
  },
  {
   "cell_type": "code",
   "execution_count": 15,
   "id": "db3c77a4",
   "metadata": {
    "execution": {
     "iopub.execute_input": "2025-02-14T20:40:40.650521Z",
     "iopub.status.busy": "2025-02-14T20:40:40.650152Z",
     "iopub.status.idle": "2025-02-14T20:40:42.223811Z",
     "shell.execute_reply": "2025-02-14T20:40:42.221648Z"
    },
    "papermill": {
     "duration": 1.583699,
     "end_time": "2025-02-14T20:40:42.225749",
     "exception": false,
     "start_time": "2025-02-14T20:40:40.642050",
     "status": "completed"
    },
    "tags": []
   },
   "outputs": [
    {
     "data": {
      "text/plain": [
       "array([81.07832975, 82.5180992 , 82.32079065, ..., 83.09118366,\n",
       "       82.15346162, 81.24599555])"
      ]
     },
     "execution_count": 15,
     "metadata": {},
     "output_type": "execute_result"
    }
   ],
   "source": [
    "y_pred = final_model.predict(preprocessor.fit_transform(test), num_iteration=final_model.best_iteration)\n",
    "y_pred"
   ]
  },
  {
   "cell_type": "code",
   "execution_count": 16,
   "id": "d43e1f99",
   "metadata": {
    "execution": {
     "iopub.execute_input": "2025-02-14T20:40:42.241175Z",
     "iopub.status.busy": "2025-02-14T20:40:42.240800Z",
     "iopub.status.idle": "2025-02-14T20:40:42.251542Z",
     "shell.execute_reply": "2025-02-14T20:40:42.250598Z"
    },
    "papermill": {
     "duration": 0.019405,
     "end_time": "2025-02-14T20:40:42.252981",
     "exception": false,
     "start_time": "2025-02-14T20:40:42.233576",
     "status": "completed"
    },
    "tags": []
   },
   "outputs": [
    {
     "data": {
      "text/html": [
       "<div>\n",
       "<style scoped>\n",
       "    .dataframe tbody tr th:only-of-type {\n",
       "        vertical-align: middle;\n",
       "    }\n",
       "\n",
       "    .dataframe tbody tr th {\n",
       "        vertical-align: top;\n",
       "    }\n",
       "\n",
       "    .dataframe thead th {\n",
       "        text-align: right;\n",
       "    }\n",
       "</style>\n",
       "<table border=\"1\" class=\"dataframe\">\n",
       "  <thead>\n",
       "    <tr style=\"text-align: right;\">\n",
       "      <th></th>\n",
       "      <th>Price</th>\n",
       "    </tr>\n",
       "    <tr>\n",
       "      <th>id</th>\n",
       "      <th></th>\n",
       "    </tr>\n",
       "  </thead>\n",
       "  <tbody>\n",
       "    <tr>\n",
       "      <th>300000</th>\n",
       "      <td>81.078330</td>\n",
       "    </tr>\n",
       "    <tr>\n",
       "      <th>300001</th>\n",
       "      <td>82.518099</td>\n",
       "    </tr>\n",
       "    <tr>\n",
       "      <th>300002</th>\n",
       "      <td>82.320791</td>\n",
       "    </tr>\n",
       "    <tr>\n",
       "      <th>300003</th>\n",
       "      <td>80.687047</td>\n",
       "    </tr>\n",
       "    <tr>\n",
       "      <th>300004</th>\n",
       "      <td>78.322768</td>\n",
       "    </tr>\n",
       "    <tr>\n",
       "      <th>...</th>\n",
       "      <td>...</td>\n",
       "    </tr>\n",
       "    <tr>\n",
       "      <th>499995</th>\n",
       "      <td>79.892537</td>\n",
       "    </tr>\n",
       "    <tr>\n",
       "      <th>499996</th>\n",
       "      <td>77.773016</td>\n",
       "    </tr>\n",
       "    <tr>\n",
       "      <th>499997</th>\n",
       "      <td>83.091184</td>\n",
       "    </tr>\n",
       "    <tr>\n",
       "      <th>499998</th>\n",
       "      <td>82.153462</td>\n",
       "    </tr>\n",
       "    <tr>\n",
       "      <th>499999</th>\n",
       "      <td>81.245996</td>\n",
       "    </tr>\n",
       "  </tbody>\n",
       "</table>\n",
       "<p>200000 rows × 1 columns</p>\n",
       "</div>"
      ],
      "text/plain": [
       "            Price\n",
       "id               \n",
       "300000  81.078330\n",
       "300001  82.518099\n",
       "300002  82.320791\n",
       "300003  80.687047\n",
       "300004  78.322768\n",
       "...           ...\n",
       "499995  79.892537\n",
       "499996  77.773016\n",
       "499997  83.091184\n",
       "499998  82.153462\n",
       "499999  81.245996\n",
       "\n",
       "[200000 rows x 1 columns]"
      ]
     },
     "execution_count": 16,
     "metadata": {},
     "output_type": "execute_result"
    }
   ],
   "source": [
    "submission = pd.DataFrame({'Price': y_pred})\n",
    "submission = submission.set_index(test.index)\n",
    "submission"
   ]
  },
  {
   "cell_type": "code",
   "execution_count": 17,
   "id": "0ae6a044",
   "metadata": {
    "execution": {
     "iopub.execute_input": "2025-02-14T20:40:42.266975Z",
     "iopub.status.busy": "2025-02-14T20:40:42.266657Z",
     "iopub.status.idle": "2025-02-14T20:40:42.649352Z",
     "shell.execute_reply": "2025-02-14T20:40:42.648191Z"
    },
    "papermill": {
     "duration": 0.39207,
     "end_time": "2025-02-14T20:40:42.651569",
     "exception": false,
     "start_time": "2025-02-14T20:40:42.259499",
     "status": "completed"
    },
    "tags": []
   },
   "outputs": [],
   "source": [
    "submission.to_csv('submission.csv')"
   ]
  }
 ],
 "metadata": {
  "kaggle": {
   "accelerator": "none",
   "dataSources": [
    {
     "databundleVersionId": 10995111,
     "sourceId": 90274,
     "sourceType": "competition"
    }
   ],
   "dockerImageVersionId": 30839,
   "isGpuEnabled": false,
   "isInternetEnabled": true,
   "language": "python",
   "sourceType": "notebook"
  },
  "kernelspec": {
   "display_name": "Python 3",
   "language": "python",
   "name": "python3"
  },
  "language_info": {
   "codemirror_mode": {
    "name": "ipython",
    "version": 3
   },
   "file_extension": ".py",
   "mimetype": "text/x-python",
   "name": "python",
   "nbconvert_exporter": "python",
   "pygments_lexer": "ipython3",
   "version": "3.10.12"
  },
  "papermill": {
   "default_parameters": {},
   "duration": 309.009272,
   "end_time": "2025-02-14T20:40:43.880869",
   "environment_variables": {},
   "exception": null,
   "input_path": "__notebook__.ipynb",
   "output_path": "__notebook__.ipynb",
   "parameters": {},
   "start_time": "2025-02-14T20:35:34.871597",
   "version": "2.6.0"
  }
 },
 "nbformat": 4,
 "nbformat_minor": 5
}
